{
  "nbformat": 4,
  "nbformat_minor": 0,
  "metadata": {
    "colab": {
      "provenance": [],
      "mount_file_id": "1qpcLHpw3LmpQExEfnASOOwfUUKxTcXX3",
      "authorship_tag": "ABX9TyPqNaE2sqwbGeSMPjgIposR",
      "include_colab_link": true
    },
    "kernelspec": {
      "name": "python3",
      "display_name": "Python 3"
    },
    "language_info": {
      "name": "python"
    }
  },
  "cells": [
    {
      "cell_type": "markdown",
      "metadata": {
        "id": "view-in-github",
        "colab_type": "text"
      },
      "source": [
        "<a href=\"https://colab.research.google.com/github/Vinith-Krish/Vinith-Krish/blob/main/Cataract_CNN_MINI_PROJ.ipynb\" target=\"_parent\"><img src=\"https://colab.research.google.com/assets/colab-badge.svg\" alt=\"Open In Colab\"/></a>"
      ]
    },
    {
      "cell_type": "code",
      "execution_count": null,
      "metadata": {
        "id": "9AnR6meVEIWG"
      },
      "outputs": [],
      "source": [
        "from keras.models import Sequential\n",
        "from keras.layers import Conv2D\n",
        "from keras.layers import Flatten\n",
        "from keras.layers import MaxPooling2D\n",
        "from keras.layers import Dense\n",
        "import numpy as np"
      ]
    },
    {
      "cell_type": "code",
      "source": [
        "from google.colab import drive\n",
        "drive.mount('/content/drive')"
      ],
      "metadata": {
        "colab": {
          "base_uri": "https://localhost:8080/"
        },
        "id": "xgPKJ1dyEXnz",
        "outputId": "884a4c3b-3953-4ea6-d104-171ab8427ce7"
      },
      "execution_count": null,
      "outputs": [
        {
          "output_type": "stream",
          "name": "stdout",
          "text": [
            "Drive already mounted at /content/drive; to attempt to forcibly remount, call drive.mount(\"/content/drive\", force_remount=True).\n"
          ]
        }
      ]
    },
    {
      "cell_type": "code",
      "source": [
        "model = Sequential()\n",
        "model.add(Conv2D(16, (3, 3), input_shape=(224, 224, 3), activation='relu'))\n",
        "model.add(MaxPooling2D((2, 2)))\n",
        "model.add(Conv2D(32, (5, 5), activation='relu'))\n",
        "model.add(MaxPooling2D((2, 2)))\n",
        "model.add(Conv2D(32, (5, 5), activation='relu'))\n",
        "model.add(MaxPooling2D((2, 2)))\n",
        "model.add(Flatten())\n",
        "model.add(Dense(256, activation='relu'))\n",
        "model.add(Dense(256, activation='relu'))\n",
        "model.add(Dense(512, activation='relu'))\n",
        "model.add(Dense(512, activation='relu'))\n",
        "model.add(Dense(1024, activation='relu'))\n",
        "model.add(Dense(1024, activation='relu'))\n",
        "model.add(Dense(2048, activation='relu'))\n",
        "model.add(Dense(1, activation='sigmoid'))"
      ],
      "metadata": {
        "id": "CHL6YTfqEmlY"
      },
      "execution_count": null,
      "outputs": []
    },
    {
      "cell_type": "code",
      "source": [
        "model.compile(optimizer='adadelta', loss='binary_crossentropy', metrics=['accuracy'])"
      ],
      "metadata": {
        "id": "mfwSGXci4N3a"
      },
      "execution_count": null,
      "outputs": []
    },
    {
      "cell_type": "code",
      "source": [
        "from keras.preprocessing.image import ImageDataGenerator\n",
        "train_datagen = ImageDataGenerator(rescale=1./255, shear_range=0.2, zoom_range=0.2, horizontal_flip=True)\n",
        "test_datagen = ImageDataGenerator(rescale=1./255)"
      ],
      "metadata": {
        "id": "bmPTxlFME5oY"
      },
      "execution_count": null,
      "outputs": []
    },
    {
      "cell_type": "code",
      "source": [
        "training_set= train_datagen.flow_from_directory('/content/drive/MyDrive/archive (1)/processed_images/train',target_size=(224,224),batch_size=8,class_mode='binary')\n",
        "test_set= test_datagen.flow_from_directory('/content/drive/MyDrive/archive (1)/processed_images/test',target_size=(224,224),batch_size=8,class_mode='binary')"
      ],
      "metadata": {
        "id": "PqOao15yFURU",
        "colab": {
          "base_uri": "https://localhost:8080/"
        },
        "outputId": "ac2ee9a3-0faf-42e3-ff00-a751878b1b73"
      },
      "execution_count": null,
      "outputs": [
        {
          "output_type": "stream",
          "name": "stdout",
          "text": [
            "Found 491 images belonging to 2 classes.\n",
            "Found 121 images belonging to 2 classes.\n"
          ]
        }
      ]
    },
    {
      "cell_type": "code",
      "source": [
        "model.fit(training_set,steps_per_epoch=20,epochs=20)"
      ],
      "metadata": {
        "colab": {
          "base_uri": "https://localhost:8080/"
        },
        "id": "SBbehWZFzQrO",
        "outputId": "12a1b31d-d6f5-4264-bcaa-47631bd5f762"
      },
      "execution_count": null,
      "outputs": [
        {
          "output_type": "stream",
          "name": "stdout",
          "text": [
            "Epoch 1/20\n",
            "20/20 [==============================] - 38s 2s/step - loss: 0.6929 - accuracy: 0.5188\n",
            "Epoch 2/20\n",
            "20/20 [==============================] - 28s 1s/step - loss: 0.6930 - accuracy: 0.5125\n",
            "Epoch 3/20\n",
            "20/20 [==============================] - 23s 1s/step - loss: 0.6930 - accuracy: 0.5000\n",
            "Epoch 4/20\n",
            "20/20 [==============================] - 21s 1s/step - loss: 0.6929 - accuracy: 0.5097\n",
            "Epoch 5/20\n",
            "20/20 [==============================] - 21s 1s/step - loss: 0.6931 - accuracy: 0.4516\n",
            "Epoch 6/20\n",
            "20/20 [==============================] - 21s 1s/step - loss: 0.6929 - accuracy: 0.4938\n",
            "Epoch 7/20\n",
            "20/20 [==============================] - 23s 1s/step - loss: 0.6930 - accuracy: 0.5063\n",
            "Epoch 8/20\n",
            "20/20 [==============================] - 21s 1s/step - loss: 0.6928 - accuracy: 0.5161\n",
            "Epoch 9/20\n",
            "20/20 [==============================] - 19s 962ms/step - loss: 0.6930 - accuracy: 0.4625\n",
            "Epoch 10/20\n",
            "20/20 [==============================] - 21s 986ms/step - loss: 0.6926 - accuracy: 0.5625\n",
            "Epoch 11/20\n",
            "20/20 [==============================] - 19s 928ms/step - loss: 0.6928 - accuracy: 0.5097\n",
            "Epoch 12/20\n",
            "20/20 [==============================] - 19s 965ms/step - loss: 0.6929 - accuracy: 0.4938\n",
            "Epoch 13/20\n",
            "20/20 [==============================] - 21s 1s/step - loss: 0.6928 - accuracy: 0.4938\n",
            "Epoch 14/20\n",
            "20/20 [==============================] - 21s 996ms/step - loss: 0.6929 - accuracy: 0.4875\n",
            "Epoch 15/20\n",
            "20/20 [==============================] - 20s 1s/step - loss: 0.6927 - accuracy: 0.5355\n",
            "Epoch 16/20\n",
            "20/20 [==============================] - 20s 978ms/step - loss: 0.6930 - accuracy: 0.4581\n",
            "Epoch 17/20\n",
            "20/20 [==============================] - 22s 1s/step - loss: 0.6925 - accuracy: 0.5813\n",
            "Epoch 18/20\n",
            "20/20 [==============================] - 21s 1s/step - loss: 0.6929 - accuracy: 0.5000\n",
            "Epoch 19/20\n",
            "20/20 [==============================] - 20s 984ms/step - loss: 0.6929 - accuracy: 0.5000\n",
            "Epoch 20/20\n",
            "20/20 [==============================] - 20s 980ms/step - loss: 0.6927 - accuracy: 0.5437\n"
          ]
        },
        {
          "output_type": "execute_result",
          "data": {
            "text/plain": [
              "<keras.src.callbacks.History at 0x79a248d51030>"
            ]
          },
          "metadata": {},
          "execution_count": 7
        }
      ]
    },
    {
      "cell_type": "code",
      "source": [
        "test_loss,test_acc =model.evaluate(test_set,verbose=2)\n",
        "print(\"\\n\\n\")\n",
        "print(\"Test Loss: \\t\",test_loss,\":\\n\")\n",
        "print(\"Test Accuracy: \\t\",test_acc,\":\\n\")"
      ],
      "metadata": {
        "colab": {
          "base_uri": "https://localhost:8080/"
        },
        "id": "XVWsXM_D38ur",
        "outputId": "12041347-9071-416c-dbb7-02d5fa6febb0"
      },
      "execution_count": null,
      "outputs": [
        {
          "output_type": "stream",
          "name": "stdout",
          "text": [
            "16/16 - 32s - loss: 0.6928 - accuracy: 0.5124 - 32s/epoch - 2s/step\n",
            "\n",
            "\n",
            "\n",
            "Test Loss: \t 0.6927791833877563 :\n",
            "\n",
            "Test Accuracy: \t 0.5123966932296753 :\n",
            "\n"
          ]
        }
      ]
    },
    {
      "cell_type": "code",
      "source": [
        "model.compile(optimizer='sgd', loss='binary_crossentropy', metrics=['accuracy'])"
      ],
      "metadata": {
        "id": "yErVLHGu3_9J"
      },
      "execution_count": null,
      "outputs": []
    },
    {
      "cell_type": "code",
      "source": [
        "model.fit(training_set,steps_per_epoch=20,epochs=15)"
      ],
      "metadata": {
        "colab": {
          "base_uri": "https://localhost:8080/"
        },
        "id": "002_23Xw4hgQ",
        "outputId": "aec35621-d2a7-4fcc-d9e4-d1e8beb12606"
      },
      "execution_count": null,
      "outputs": [
        {
          "output_type": "stream",
          "name": "stdout",
          "text": [
            "Epoch 1/15\n",
            "20/20 [==============================] - 22s 976ms/step - loss: 0.6928 - accuracy: 0.5625\n",
            "Epoch 2/15\n",
            "20/20 [==============================] - 20s 1s/step - loss: 0.6909 - accuracy: 0.5625\n",
            "Epoch 3/15\n",
            "20/20 [==============================] - 20s 977ms/step - loss: 0.6916 - accuracy: 0.5226\n",
            "Epoch 4/15\n",
            "20/20 [==============================] - 19s 926ms/step - loss: 0.6902 - accuracy: 0.5355\n",
            "Epoch 5/15\n",
            "20/20 [==============================] - 18s 876ms/step - loss: 0.6933 - accuracy: 0.4710\n",
            "Epoch 6/15\n",
            "20/20 [==============================] - 20s 952ms/step - loss: 0.6908 - accuracy: 0.5063\n",
            "Epoch 7/15\n",
            "20/20 [==============================] - 18s 919ms/step - loss: 0.6902 - accuracy: 0.5188\n",
            "Epoch 8/15\n",
            "20/20 [==============================] - 18s 855ms/step - loss: 0.6905 - accuracy: 0.5484\n",
            "Epoch 9/15\n",
            "20/20 [==============================] - 19s 933ms/step - loss: 0.6901 - accuracy: 0.5750\n",
            "Epoch 10/15\n",
            "20/20 [==============================] - 19s 929ms/step - loss: 0.6906 - accuracy: 0.5125\n",
            "Epoch 11/15\n",
            "20/20 [==============================] - 18s 905ms/step - loss: 0.6871 - accuracy: 0.5688\n",
            "Epoch 12/15\n",
            "20/20 [==============================] - 17s 843ms/step - loss: 0.6851 - accuracy: 0.6323\n",
            "Epoch 13/15\n",
            "20/20 [==============================] - 18s 898ms/step - loss: 0.6867 - accuracy: 0.5750\n",
            "Epoch 14/15\n",
            "20/20 [==============================] - 19s 934ms/step - loss: 0.6835 - accuracy: 0.6710\n",
            "Epoch 15/15\n",
            "20/20 [==============================] - 17s 859ms/step - loss: 0.6766 - accuracy: 0.6687\n"
          ]
        },
        {
          "output_type": "execute_result",
          "data": {
            "text/plain": [
              "<keras.src.callbacks.History at 0x79a248991bd0>"
            ]
          },
          "metadata": {},
          "execution_count": 10
        }
      ]
    },
    {
      "cell_type": "code",
      "source": [
        "test_loss,test_acc =model.evaluate(test_set,verbose=2)\n",
        "print(\"\\n\\n\")\n",
        "print(\"Test Loss: \\t\",test_loss,\":\\n\")\n",
        "print(\"Test Accuracy: \\t\",test_acc,\":\\n\")"
      ],
      "metadata": {
        "colab": {
          "base_uri": "https://localhost:8080/"
        },
        "id": "8J6vFI065CCq",
        "outputId": "aeb551f1-0e56-4877-9e64-7d8fff70ecd2"
      },
      "execution_count": null,
      "outputs": [
        {
          "output_type": "stream",
          "name": "stdout",
          "text": [
            "16/16 - 8s - loss: 0.6763 - accuracy: 0.7521 - 8s/epoch - 497ms/step\n",
            "\n",
            "\n",
            "\n",
            "Test Loss: \t 0.6762615442276001 :\n",
            "\n",
            "Test Accuracy: \t 0.7520661354064941 :\n",
            "\n"
          ]
        }
      ]
    },
    {
      "cell_type": "code",
      "source": [
        "model.compile(optimizer='adam', loss='binary_crossentropy', metrics=['accuracy'])"
      ],
      "metadata": {
        "id": "z6hy0ge96RMl"
      },
      "execution_count": null,
      "outputs": []
    },
    {
      "cell_type": "code",
      "source": [
        "model.fit(training_set,steps_per_epoch=20,epochs=15)"
      ],
      "metadata": {
        "colab": {
          "base_uri": "https://localhost:8080/"
        },
        "id": "86GPiRiF6X39",
        "outputId": "ad9ecb80-b3c4-4361-9cdb-f60c097351d9"
      },
      "execution_count": null,
      "outputs": [
        {
          "output_type": "stream",
          "name": "stdout",
          "text": [
            "Epoch 1/15\n",
            "20/20 [==============================] - 26s 1s/step - loss: 0.7503 - accuracy: 0.5312\n",
            "Epoch 2/15\n",
            "20/20 [==============================] - 22s 1s/step - loss: 0.6980 - accuracy: 0.4938\n",
            "Epoch 3/15\n",
            "20/20 [==============================] - 24s 1s/step - loss: 0.6937 - accuracy: 0.4875\n",
            "Epoch 4/15\n",
            "20/20 [==============================] - 21s 1s/step - loss: 0.6934 - accuracy: 0.5161\n",
            "Epoch 5/15\n",
            "20/20 [==============================] - 23s 1s/step - loss: 0.6942 - accuracy: 0.5484\n",
            "Epoch 6/15\n",
            "20/20 [==============================] - 22s 1s/step - loss: 0.6953 - accuracy: 0.4187\n",
            "Epoch 7/15\n",
            "20/20 [==============================] - 22s 1s/step - loss: 0.6956 - accuracy: 0.4437\n",
            "Epoch 8/15\n",
            "20/20 [==============================] - 26s 1s/step - loss: 0.6766 - accuracy: 0.5125\n",
            "Epoch 9/15\n",
            "20/20 [==============================] - 21s 1s/step - loss: 0.6762 - accuracy: 0.5032\n",
            "Epoch 10/15\n",
            "20/20 [==============================] - 21s 1s/step - loss: 0.9873 - accuracy: 0.5938\n",
            "Epoch 11/15\n",
            "20/20 [==============================] - 20s 994ms/step - loss: 0.6724 - accuracy: 0.5226\n",
            "Epoch 12/15\n",
            "20/20 [==============================] - 24s 1s/step - loss: 0.6958 - accuracy: 0.5875\n",
            "Epoch 13/15\n",
            "20/20 [==============================] - 22s 1s/step - loss: 0.6823 - accuracy: 0.4688\n",
            "Epoch 14/15\n",
            "20/20 [==============================] - 22s 1s/step - loss: 0.7020 - accuracy: 0.4938\n",
            "Epoch 15/15\n",
            "20/20 [==============================] - 21s 1s/step - loss: 0.6911 - accuracy: 0.4452\n"
          ]
        },
        {
          "output_type": "execute_result",
          "data": {
            "text/plain": [
              "<keras.src.callbacks.History at 0x7dad207f1b70>"
            ]
          },
          "metadata": {},
          "execution_count": 15
        }
      ]
    },
    {
      "cell_type": "code",
      "source": [
        "test_loss,test_acc =model.evaluate(test_set,verbose=2)\n",
        "print(\"\\n\\n\")\n",
        "print(\"Test Loss: \\t\",test_loss,\":\\n\")\n",
        "print(\"Test Accuracy: \\t\",test_acc,\":\\n\")"
      ],
      "metadata": {
        "colab": {
          "base_uri": "https://localhost:8080/"
        },
        "id": "s7cYIBsZ3sce",
        "outputId": "a4d96a89-9c66-4832-d2c8-a09f9759ab2a"
      },
      "execution_count": null,
      "outputs": [
        {
          "output_type": "stream",
          "name": "stdout",
          "text": [
            "16/16 - 10s - loss: 0.6931 - accuracy: 0.4959 - 10s/epoch - 636ms/step\n",
            "\n",
            "\n",
            "\n",
            "Test Loss: \t 0.6931273937225342 :\n",
            "\n",
            "Test Accuracy: \t 0.4958677589893341 :\n",
            "\n"
          ]
        }
      ]
    },
    {
      "cell_type": "markdown",
      "source": [
        "DROPOUTS"
      ],
      "metadata": {
        "id": "f6xywlxP4QW_"
      }
    },
    {
      "cell_type": "code",
      "source": [
        "from tensorflow.keras.layers import Dropout\n",
        "model = Sequential()\n",
        "model.add(Conv2D(16, (3, 3), input_shape=(224, 224, 3), activation='relu'))\n",
        "model.add(MaxPooling2D((2, 2)))\n",
        "model.add(Conv2D(32, (5, 5), activation='relu'))\n",
        "model.add(MaxPooling2D((2, 2)))\n",
        "model.add(Conv2D(32, (5, 5), activation='relu'))\n",
        "model.add(MaxPooling2D((2, 2)))\n",
        "\n",
        "model.add(Flatten())\n",
        "model.add(Dense(512, activation='relu'))\n",
        "model.add(Dropout(0.1))\n",
        "model.add(Dense(512, activation='relu'))\n",
        "model.add(Dropout(0.1))\n",
        "model.add(Dense(512, activation='relu'))\n",
        "model.add(Dense(512, activation='relu'))\n",
        "model.add(Dropout(0.1))\n",
        "model.add(Dense(1024, activation='relu'))\n",
        "model.add(Dropout(0.1))\n",
        "model.add(Dense(1024, activation='relu'))\n",
        "model.add(Dropout(0.1))\n",
        "model.add(Dense(2048, activation='relu'))\n",
        "model.add(Dense(1, activation='sigmoid'))"
      ],
      "metadata": {
        "id": "dugtWGer8I9l"
      },
      "execution_count": null,
      "outputs": []
    },
    {
      "cell_type": "code",
      "source": [
        "model.compile(optimizer='adam', loss='binary_crossentropy', metrics=['accuracy'])"
      ],
      "metadata": {
        "id": "wJ8t3Swj8Va_"
      },
      "execution_count": null,
      "outputs": []
    },
    {
      "cell_type": "code",
      "source": [
        "model.fit(training_set,steps_per_epoch=20,epochs=20)"
      ],
      "metadata": {
        "colab": {
          "base_uri": "https://localhost:8080/"
        },
        "id": "xpkupGae8bJU",
        "outputId": "a5f5f9ed-52d8-4512-8479-198d414708b1"
      },
      "execution_count": null,
      "outputs": [
        {
          "output_type": "stream",
          "name": "stdout",
          "text": [
            "Epoch 1/20\n",
            "20/20 [==============================] - 31s 1s/step - loss: 0.7374 - accuracy: 0.4938\n",
            "Epoch 2/20\n",
            "20/20 [==============================] - 27s 1s/step - loss: 0.6939 - accuracy: 0.5000\n",
            "Epoch 3/20\n",
            "20/20 [==============================] - 24s 1s/step - loss: 0.6961 - accuracy: 0.3688\n",
            "Epoch 4/20\n",
            "20/20 [==============================] - 28s 1s/step - loss: 0.6928 - accuracy: 0.5419\n",
            "Epoch 5/20\n",
            "20/20 [==============================] - 24s 1s/step - loss: 0.6922 - accuracy: 0.5312\n",
            "Epoch 6/20\n",
            "20/20 [==============================] - 27s 1s/step - loss: 0.6973 - accuracy: 0.4563\n",
            "Epoch 7/20\n",
            "20/20 [==============================] - 24s 1s/step - loss: 0.6932 - accuracy: 0.5032\n",
            "Epoch 8/20\n",
            "20/20 [==============================] - 25s 1s/step - loss: 0.6943 - accuracy: 0.4710\n",
            "Epoch 9/20\n",
            "20/20 [==============================] - 24s 1s/step - loss: 0.6941 - accuracy: 0.4688\n",
            "Epoch 10/20\n",
            "20/20 [==============================] - 28s 1s/step - loss: 0.6932 - accuracy: 0.5188\n",
            "Epoch 11/20\n",
            "20/20 [==============================] - 25s 1s/step - loss: 0.6931 - accuracy: 0.5097\n",
            "Epoch 12/20\n",
            "20/20 [==============================] - 24s 1s/step - loss: 0.6935 - accuracy: 0.4750\n",
            "Epoch 13/20\n",
            "20/20 [==============================] - 29s 1s/step - loss: 0.6929 - accuracy: 0.5355\n",
            "Epoch 14/20\n",
            "20/20 [==============================] - 26s 1s/step - loss: 0.6936 - accuracy: 0.4688\n",
            "Epoch 15/20\n",
            "20/20 [==============================] - 26s 1s/step - loss: 0.6931 - accuracy: 0.5290\n",
            "Epoch 16/20\n",
            "20/20 [==============================] - 23s 1s/step - loss: 0.6934 - accuracy: 0.4839\n",
            "Epoch 17/20\n",
            "20/20 [==============================] - 25s 1s/step - loss: 0.6931 - accuracy: 0.5188\n",
            "Epoch 18/20\n",
            "20/20 [==============================] - 25s 1s/step - loss: 0.6934 - accuracy: 0.4688\n",
            "Epoch 19/20\n",
            "20/20 [==============================] - 24s 1s/step - loss: 0.6931 - accuracy: 0.5375\n",
            "Epoch 20/20\n",
            "20/20 [==============================] - 26s 1s/step - loss: 0.6932 - accuracy: 0.5125\n"
          ]
        },
        {
          "output_type": "execute_result",
          "data": {
            "text/plain": [
              "<keras.src.callbacks.History at 0x7dad1d99bd60>"
            ]
          },
          "metadata": {},
          "execution_count": 20
        }
      ]
    },
    {
      "cell_type": "code",
      "source": [
        "test_loss,test_acc =model.evaluate(test_set,verbose=2)\n",
        "print(\"\\n\\n\")\n",
        "print(\"Test Loss: \\t\",test_loss,\":\\n\")\n",
        "print(\"Test Accuracy: \\t\",test_acc,\":\\n\")"
      ],
      "metadata": {
        "colab": {
          "base_uri": "https://localhost:8080/"
        },
        "id": "3eb6Alywxffc",
        "outputId": "0fe6cf95-1178-4641-8fda-f4ee58e8d384"
      },
      "execution_count": null,
      "outputs": [
        {
          "output_type": "stream",
          "name": "stdout",
          "text": [
            "16/16 - 7s - loss: 0.6828 - accuracy: 0.5537 - 7s/epoch - 449ms/step\n",
            "\n",
            "\n",
            "\n",
            "Test Loss: \t 0.6827652454376221 :\n",
            "\n",
            "Test Accuracy: \t 0.5537189841270447 :\n",
            "\n"
          ]
        }
      ]
    },
    {
      "cell_type": "markdown",
      "source": [
        "**TRANSFER LEARNING**"
      ],
      "metadata": {
        "id": "QFfHFQah5K9e"
      }
    },
    {
      "cell_type": "code",
      "source": [
        "from tensorflow.keras.applications.vgg16 import VGG16\n",
        "vgg_model = Sequential()\n",
        "base_model = VGG16(weights=\"imagenet\", include_top=False, input_shape=(224,224,3))\n",
        "base_model.trainable = False\n",
        "vgg_model.add(base_model)\n",
        "vgg_model.add(Flatten())\n",
        "vgg_model.add(Dense(512, activation='relu'))\n",
        "vgg_model.add(Dense(1, activation='sigmoid'))"
      ],
      "metadata": {
        "id": "KF5GDJDs-TUt",
        "colab": {
          "base_uri": "https://localhost:8080/"
        },
        "outputId": "dbb5589a-5b6b-4cb3-99d8-c1a5568355bf"
      },
      "execution_count": null,
      "outputs": [
        {
          "output_type": "stream",
          "name": "stdout",
          "text": [
            "Downloading data from https://storage.googleapis.com/tensorflow/keras-applications/vgg16/vgg16_weights_tf_dim_ordering_tf_kernels_notop.h5\n",
            "58889256/58889256 [==============================] - 0s 0us/step\n"
          ]
        }
      ]
    },
    {
      "cell_type": "code",
      "source": [
        "vgg_model.compile(optimizer='adam', loss='binary_crossentropy', metrics=['accuracy'])"
      ],
      "metadata": {
        "id": "0G90P_ME-Z0D"
      },
      "execution_count": null,
      "outputs": []
    },
    {
      "cell_type": "code",
      "source": [
        "vgg_model.fit(training_set,steps_per_epoch=20,epochs=15)"
      ],
      "metadata": {
        "colab": {
          "base_uri": "https://localhost:8080/"
        },
        "id": "ZiTQuclD-cK1",
        "outputId": "47260a80-50a4-46b5-84fa-d7c13046831b"
      },
      "execution_count": null,
      "outputs": [
        {
          "output_type": "stream",
          "name": "stdout",
          "text": [
            "Epoch 1/15\n",
            "20/20 [==============================] - 114s 6s/step - loss: 2.1624 - accuracy: 0.6438\n",
            "Epoch 2/15\n",
            "20/20 [==============================] - 111s 6s/step - loss: 0.4944 - accuracy: 0.7875\n",
            "Epoch 3/15\n",
            "20/20 [==============================] - 107s 5s/step - loss: 0.2976 - accuracy: 0.8968\n",
            "Epoch 4/15\n",
            "20/20 [==============================] - 111s 6s/step - loss: 0.2913 - accuracy: 0.8938\n",
            "Epoch 5/15\n",
            "20/20 [==============================] - 108s 5s/step - loss: 0.1954 - accuracy: 0.9419\n",
            "Epoch 6/15\n",
            "20/20 [==============================] - 107s 5s/step - loss: 0.3238 - accuracy: 0.8645\n",
            "Epoch 7/15\n",
            "20/20 [==============================] - 110s 5s/step - loss: 0.2137 - accuracy: 0.9250\n",
            "Epoch 8/15\n",
            "20/20 [==============================] - 110s 5s/step - loss: 0.1869 - accuracy: 0.9250\n",
            "Epoch 9/15\n",
            "20/20 [==============================] - 106s 5s/step - loss: 0.1583 - accuracy: 0.9484\n",
            "Epoch 10/15\n",
            "20/20 [==============================] - 112s 5s/step - loss: 0.1360 - accuracy: 0.9563\n",
            "Epoch 11/15\n",
            "20/20 [==============================] - 108s 5s/step - loss: 0.0957 - accuracy: 0.9677\n",
            "Epoch 12/15\n",
            "20/20 [==============================] - 108s 6s/step - loss: 0.1568 - accuracy: 0.9226\n",
            "Epoch 13/15\n",
            "20/20 [==============================] - 110s 6s/step - loss: 0.2700 - accuracy: 0.9000\n",
            "Epoch 14/15\n",
            "20/20 [==============================] - 106s 5s/step - loss: 0.0933 - accuracy: 0.9677\n",
            "Epoch 15/15\n",
            "20/20 [==============================] - 107s 5s/step - loss: 0.0437 - accuracy: 0.9871\n"
          ]
        },
        {
          "output_type": "execute_result",
          "data": {
            "text/plain": [
              "<keras.src.callbacks.History at 0x79a23a0e94b0>"
            ]
          },
          "metadata": {},
          "execution_count": 19
        }
      ]
    },
    {
      "cell_type": "code",
      "source": [
        "test_loss,test_acc =vgg_model.evaluate(test_set,verbose=2)\n",
        "print(\"\\n\\n\")\n",
        "print(\"Test Loss: \\t\",test_loss,\":\\n\")\n",
        "print(\"Test Accuracy: \\t\",test_acc,\":\\n\")"
      ],
      "metadata": {
        "colab": {
          "base_uri": "https://localhost:8080/"
        },
        "id": "9Ahd21DZGEtM",
        "outputId": "a7d7a232-11f8-461c-e0d0-a64ba93d55d7"
      },
      "execution_count": null,
      "outputs": [
        {
          "output_type": "stream",
          "name": "stdout",
          "text": [
            "16/16 - 79s - loss: 0.0957 - accuracy: 0.9669 - 79s/epoch - 5s/step\n",
            "\n",
            "\n",
            "\n",
            "Test Loss: \t 0.09574349969625473 :\n",
            "\n",
            "Test Accuracy: \t 0.9669421315193176 :\n",
            "\n"
          ]
        }
      ]
    },
    {
      "cell_type": "code",
      "source": [
        "import tensorflow as tf\n",
        "resnet_model = Sequential()\n",
        "\n",
        "pretrained_model= tf.keras.applications.ResNet50(include_top=False,\n",
        "                   input_shape=(224,224,3),\n",
        "                   pooling='avg',classes=2,\n",
        "                   weights='imagenet')\n",
        "for layer in pretrained_model.layers:\n",
        "        layer.trainable=False\n",
        "\n",
        "resnet_model.add(pretrained_model)\n",
        "resnet_model.add(Flatten())\n",
        "resnet_model.add(Dense(512, activation='relu'))\n",
        "resnet_model.add(Dense(1, activation='sigmoid'))"
      ],
      "metadata": {
        "colab": {
          "base_uri": "https://localhost:8080/"
        },
        "id": "ZbQd9rgHESHa",
        "outputId": "cf8cd28c-6f03-45e5-88e6-38a2a85042b3"
      },
      "execution_count": null,
      "outputs": [
        {
          "output_type": "stream",
          "name": "stdout",
          "text": [
            "Downloading data from https://storage.googleapis.com/tensorflow/keras-applications/resnet/resnet50_weights_tf_dim_ordering_tf_kernels_notop.h5\n",
            "94765736/94765736 [==============================] - 1s 0us/step\n"
          ]
        }
      ]
    },
    {
      "cell_type": "code",
      "source": [
        "resnet_model.compile(optimizer='adam', loss='binary_crossentropy', metrics=['accuracy'])"
      ],
      "metadata": {
        "id": "gMewQyyEEdSs"
      },
      "execution_count": null,
      "outputs": []
    },
    {
      "cell_type": "code",
      "source": [
        "resnet_model.fit(training_set,steps_per_epoch=20,epochs=15)"
      ],
      "metadata": {
        "colab": {
          "base_uri": "https://localhost:8080/"
        },
        "id": "-m2Ib_D1EgMz",
        "outputId": "79a5d525-f26b-4e12-f6f7-9e9b1e77e398"
      },
      "execution_count": null,
      "outputs": [
        {
          "output_type": "stream",
          "name": "stdout",
          "text": [
            "Epoch 1/15\n",
            "20/20 [==============================] - 40s 2s/step - loss: 0.9517 - accuracy: 0.4875\n",
            "Epoch 2/15\n",
            "20/20 [==============================] - 33s 2s/step - loss: 0.7509 - accuracy: 0.5290\n",
            "Epoch 3/15\n",
            "20/20 [==============================] - 35s 2s/step - loss: 0.6841 - accuracy: 0.5625\n",
            "Epoch 4/15\n",
            "20/20 [==============================] - 38s 2s/step - loss: 0.7315 - accuracy: 0.6125\n",
            "Epoch 5/15\n",
            "20/20 [==============================] - 35s 2s/step - loss: 0.8003 - accuracy: 0.5188\n",
            "Epoch 6/15\n",
            "20/20 [==============================] - 34s 2s/step - loss: 0.6747 - accuracy: 0.5806\n",
            "Epoch 7/15\n",
            "20/20 [==============================] - 35s 2s/step - loss: 0.6439 - accuracy: 0.6250\n",
            "Epoch 8/15\n",
            "20/20 [==============================] - 38s 2s/step - loss: 0.7158 - accuracy: 0.5562\n",
            "Epoch 9/15\n",
            "20/20 [==============================] - 36s 2s/step - loss: 0.6187 - accuracy: 0.6125\n",
            "Epoch 10/15\n",
            "20/20 [==============================] - 38s 2s/step - loss: 0.6326 - accuracy: 0.6313\n",
            "Epoch 11/15\n",
            "20/20 [==============================] - 34s 2s/step - loss: 0.6272 - accuracy: 0.6323\n",
            "Epoch 12/15\n",
            "20/20 [==============================] - 34s 2s/step - loss: 0.6225 - accuracy: 0.6687\n",
            "Epoch 13/15\n",
            "20/20 [==============================] - 34s 2s/step - loss: 0.6440 - accuracy: 0.6323\n",
            "Epoch 14/15\n",
            "20/20 [==============================] - 35s 2s/step - loss: 0.6380 - accuracy: 0.6438\n",
            "Epoch 15/15\n",
            "20/20 [==============================] - 36s 2s/step - loss: 0.6211 - accuracy: 0.6194\n"
          ]
        },
        {
          "output_type": "execute_result",
          "data": {
            "text/plain": [
              "<keras.src.callbacks.History at 0x79a238cc1c90>"
            ]
          },
          "metadata": {},
          "execution_count": 23
        }
      ]
    },
    {
      "cell_type": "code",
      "source": [
        "from tensorflow.keras.applications.vgg19 import VGG19\n",
        "vgg19_model=Sequential()\n",
        "vgg = VGG19(weights=\"imagenet\", include_top=False, input_shape=(224,224,3))\n",
        "vgg.trainable = False\n",
        "vgg19_model.add(vgg)\n",
        "vgg19_model.add(Flatten())\n",
        "vgg19_model.add(Dense(512, activation='relu'))\n",
        "vgg19_model.add(Dense(1, activation='sigmoid'))"
      ],
      "metadata": {
        "id": "PpZ9fGRGEuhg"
      },
      "execution_count": null,
      "outputs": []
    },
    {
      "cell_type": "code",
      "source": [
        "vgg19_model.compile(optimizer='adam', loss='binary_crossentropy', metrics=['accuracy'])"
      ],
      "metadata": {
        "id": "PvOjTM_cExFl"
      },
      "execution_count": null,
      "outputs": []
    },
    {
      "cell_type": "code",
      "source": [
        "vgg19_model.fit(training_set,steps_per_epoch=20,epochs=15)"
      ],
      "metadata": {
        "colab": {
          "base_uri": "https://localhost:8080/"
        },
        "id": "Dt0NvbS2Ey8y",
        "outputId": "89eedff9-c648-478c-8c09-4c2cfda6e8f3"
      },
      "execution_count": null,
      "outputs": [
        {
          "output_type": "stream",
          "name": "stdout",
          "text": [
            "Epoch 1/15\n",
            "20/20 [==============================] - 136s 7s/step - loss: 3.5908 - accuracy: 0.5375\n",
            "Epoch 2/15\n",
            "20/20 [==============================] - 131s 7s/step - loss: 0.4395 - accuracy: 0.7806\n",
            "Epoch 3/15\n",
            "20/20 [==============================] - 134s 7s/step - loss: 0.3325 - accuracy: 0.8500\n",
            "Epoch 4/15\n",
            "20/20 [==============================] - 130s 6s/step - loss: 0.2898 - accuracy: 0.9032\n",
            "Epoch 5/15\n",
            "20/20 [==============================] - 137s 7s/step - loss: 0.2719 - accuracy: 0.8938\n",
            "Epoch 6/15\n",
            "20/20 [==============================] - 130s 6s/step - loss: 0.3084 - accuracy: 0.8452\n",
            "Epoch 7/15\n",
            "20/20 [==============================] - 132s 7s/step - loss: 0.1687 - accuracy: 0.9290\n",
            "Epoch 8/15\n",
            "20/20 [==============================] - 136s 7s/step - loss: 0.2856 - accuracy: 0.8750\n",
            "Epoch 9/15\n",
            "20/20 [==============================] - 130s 6s/step - loss: 0.1862 - accuracy: 0.9355\n",
            "Epoch 10/15\n",
            "20/20 [==============================] - 133s 7s/step - loss: 0.1844 - accuracy: 0.9355\n",
            "Epoch 11/15\n",
            "20/20 [==============================] - 133s 7s/step - loss: 0.1084 - accuracy: 0.9688\n",
            "Epoch 12/15\n",
            "20/20 [==============================] - 136s 7s/step - loss: 0.1679 - accuracy: 0.9125\n",
            "Epoch 13/15\n",
            "20/20 [==============================] - 134s 7s/step - loss: 0.1363 - accuracy: 0.9563\n",
            "Epoch 14/15\n",
            "20/20 [==============================] - 134s 7s/step - loss: 0.1179 - accuracy: 0.9688\n",
            "Epoch 15/15\n",
            "20/20 [==============================] - 136s 7s/step - loss: 0.1733 - accuracy: 0.9312\n"
          ]
        },
        {
          "output_type": "execute_result",
          "data": {
            "text/plain": [
              "<keras.src.callbacks.History at 0x79a23a05b730>"
            ]
          },
          "metadata": {},
          "execution_count": 29
        }
      ]
    },
    {
      "cell_type": "code",
      "source": [
        "test_loss,test_acc =vgg19_model.evaluate(test_set,verbose=2)\n",
        "print(\"\\n\\n\")\n",
        "print(\"Test Loss: \\t\",test_loss,\":\\n\")\n",
        "print(\"Test Accuracy: \\t\",test_acc,\":\\n\")"
      ],
      "metadata": {
        "colab": {
          "base_uri": "https://localhost:8080/"
        },
        "id": "UidRpEuzVcTB",
        "outputId": "e0cfdb9f-c2f5-46f1-9835-d17508bd6831"
      },
      "execution_count": null,
      "outputs": [
        {
          "output_type": "stream",
          "name": "stdout",
          "text": [
            "16/16 - 98s - loss: 0.1439 - accuracy: 0.9421 - 98s/epoch - 6s/step\n",
            "\n",
            "\n",
            "\n",
            "Test Loss: \t 0.1438591629266739 :\n",
            "\n",
            "Test Accuracy: \t 0.942148745059967 :\n",
            "\n"
          ]
        }
      ]
    }
  ]
}